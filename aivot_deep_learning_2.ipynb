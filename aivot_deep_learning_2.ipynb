{
  "nbformat": 4,
  "nbformat_minor": 0,
  "metadata": {
    "colab": {
      "provenance": [],
      "authorship_tag": "ABX9TyMSv+JYbSmnRStGaQwWD71+",
      "include_colab_link": true
    },
    "kernelspec": {
      "name": "python3",
      "display_name": "Python 3"
    },
    "language_info": {
      "name": "python"
    },
    "accelerator": "GPU",
    "gpuClass": "standard"
  },
  "cells": [
    {
      "cell_type": "markdown",
      "metadata": {
        "id": "view-in-github",
        "colab_type": "text"
      },
      "source": [
        "<a href=\"https://colab.research.google.com/github/ommnnitald/DiamondPricePrediction/blob/main/aivot_deep_learning_2.ipynb\" target=\"_parent\"><img src=\"https://colab.research.google.com/assets/colab-badge.svg\" alt=\"Open In Colab\"/></a>"
      ]
    },
    {
      "cell_type": "code",
      "execution_count": null,
      "metadata": {
        "id": "kg9T-qz8Ukpo",
        "colab": {
          "base_uri": "https://localhost:8080/"
        },
        "outputId": "d4add06e-a8a6-4187-c3ff-4238b317fe1e"
      },
      "outputs": [
        {
          "output_type": "stream",
          "name": "stdout",
          "text": [
            "Downloading data from https://storage.googleapis.com/tensorflow/tf-keras-datasets/imdb.npz\n",
            "17465344/17464789 [==============================] - 0s 0us/step\n",
            "17473536/17464789 [==============================] - 0s 0us/step\n"
          ]
        }
      ],
      "source": [
        "from tensorflow.keras.datasets import imdb\n",
        "(train_data, train_labels), (test_data, test_labels) = imdb.load_data(\n",
        "    num_words=10000)"
      ]
    },
    {
      "cell_type": "code",
      "source": [
        "model = keras.Sequential([\n",
        "layers.Dense(16, activation=\"relu\"),\n",
        "layers.Dropout(0.5),\n",
        "layers.Dense(16, activation=\"relu\"),\n",
        "layers.Dropout(0.5),\n",
        "layers.Dense(1, activation=\"sigmoid\")\n",
        "])\n",
        "model.compile(optimizer=\"rmsprop\",\n",
        "loss=\"binary_crossentropy\",\n",
        "metrics=[\"accuracy\"])\n",
        "history_dropout = model.fit(\n",
        "train_data, train_labels,\n",
        "epochs=20, batch_size=512, validation_split=0.4)"
      ],
      "metadata": {
        "colab": {
          "base_uri": "https://localhost:8080/"
        },
        "id": "HcrsbPhPBUWD",
        "outputId": "6a9f691d-31df-4721-c4b3-be66af32c1d5"
      },
      "execution_count": null,
      "outputs": [
        {
          "output_type": "stream",
          "name": "stdout",
          "text": [
            "Epoch 1/20\n",
            "1/1 [==============================] - 1s 829ms/step - loss: 5.3261 - accuracy: 0.0207 - val_loss: 3.6741 - val_accuracy: 0.0000e+00\n",
            "Epoch 2/20\n",
            "1/1 [==============================] - 0s 26ms/step - loss: 5.5697 - accuracy: 0.0207 - val_loss: 3.1827 - val_accuracy: 0.0000e+00\n",
            "Epoch 3/20\n",
            "1/1 [==============================] - 0s 25ms/step - loss: 3.7453 - accuracy: 0.0165 - val_loss: 2.8171 - val_accuracy: 0.0062\n",
            "Epoch 4/20\n",
            "1/1 [==============================] - 0s 37ms/step - loss: 3.7777 - accuracy: 0.0289 - val_loss: 2.4657 - val_accuracy: 0.0062\n",
            "Epoch 5/20\n",
            "1/1 [==============================] - 0s 26ms/step - loss: 2.5782 - accuracy: 0.0207 - val_loss: 2.1973 - val_accuracy: 0.0062\n",
            "Epoch 6/20\n",
            "1/1 [==============================] - 0s 27ms/step - loss: 4.5101 - accuracy: 0.0083 - val_loss: 1.9356 - val_accuracy: 0.0062\n",
            "Epoch 7/20\n",
            "1/1 [==============================] - 0s 26ms/step - loss: 4.4063 - accuracy: 0.0124 - val_loss: 1.6853 - val_accuracy: 0.0185\n",
            "Epoch 8/20\n",
            "1/1 [==============================] - 0s 25ms/step - loss: 2.3445 - accuracy: 0.0248 - val_loss: 1.4556 - val_accuracy: 0.0247\n",
            "Epoch 9/20\n",
            "1/1 [==============================] - 0s 26ms/step - loss: 3.1769 - accuracy: 0.0207 - val_loss: 1.2643 - val_accuracy: 0.0247\n",
            "Epoch 10/20\n",
            "1/1 [==============================] - 0s 26ms/step - loss: 2.3561 - accuracy: 0.0289 - val_loss: 1.0574 - val_accuracy: 0.0247\n",
            "Epoch 11/20\n",
            "1/1 [==============================] - 0s 26ms/step - loss: 1.8530 - accuracy: 0.0289 - val_loss: 0.8619 - val_accuracy: 0.0370\n",
            "Epoch 12/20\n",
            "1/1 [==============================] - 0s 26ms/step - loss: 1.9750 - accuracy: 0.0289 - val_loss: 0.6411 - val_accuracy: 0.0370\n",
            "Epoch 13/20\n",
            "1/1 [==============================] - 0s 25ms/step - loss: 2.4101 - accuracy: 0.0124 - val_loss: 0.4515 - val_accuracy: 0.0370\n",
            "Epoch 14/20\n",
            "1/1 [==============================] - 0s 25ms/step - loss: 1.8837 - accuracy: 0.0248 - val_loss: 0.2428 - val_accuracy: 0.0370\n",
            "Epoch 15/20\n",
            "1/1 [==============================] - 0s 27ms/step - loss: 2.4948 - accuracy: 0.0207 - val_loss: 0.0650 - val_accuracy: 0.0432\n",
            "Epoch 16/20\n",
            "1/1 [==============================] - 0s 45ms/step - loss: 2.1839 - accuracy: 0.0248 - val_loss: -0.1433 - val_accuracy: 0.0432\n",
            "Epoch 17/20\n",
            "1/1 [==============================] - 0s 31ms/step - loss: 1.1026 - accuracy: 0.0248 - val_loss: -0.3117 - val_accuracy: 0.0432\n",
            "Epoch 18/20\n",
            "1/1 [==============================] - 0s 52ms/step - loss: 1.3667 - accuracy: 0.0165 - val_loss: -0.5009 - val_accuracy: 0.0432\n",
            "Epoch 19/20\n",
            "1/1 [==============================] - 0s 28ms/step - loss: 0.7506 - accuracy: 0.0165 - val_loss: -0.6747 - val_accuracy: 0.0432\n",
            "Epoch 20/20\n",
            "1/1 [==============================] - 0s 27ms/step - loss: 1.4701 - accuracy: 0.0165 - val_loss: -0.8514 - val_accuracy: 0.0432\n"
          ]
        }
      ]
    },
    {
      "cell_type": "code",
      "source": [
        "train_labels[0]"
      ],
      "metadata": {
        "colab": {
          "base_uri": "https://localhost:8080/"
        },
        "id": "TZxZsJzlVEOF",
        "outputId": "77d0f0ca-0714-4a0e-8479-5b1164f03392"
      },
      "execution_count": null,
      "outputs": [
        {
          "output_type": "execute_result",
          "data": {
            "text/plain": [
              "1"
            ]
          },
          "metadata": {},
          "execution_count": 2
        }
      ]
    },
    {
      "cell_type": "code",
      "source": [
        "max([max(sequence) for sequence in train_data])"
      ],
      "metadata": {
        "colab": {
          "base_uri": "https://localhost:8080/"
        },
        "id": "qLmrP_i4VHaU",
        "outputId": "4bb56b5e-0e8a-4bdf-a85b-7b301f3e40be"
      },
      "execution_count": null,
      "outputs": [
        {
          "output_type": "execute_result",
          "data": {
            "text/plain": [
              "9999"
            ]
          },
          "metadata": {},
          "execution_count": 3
        }
      ]
    },
    {
      "cell_type": "code",
      "source": [
        "word_index = imdb.get_word_index()\n",
        "reverse_word_index = dict(\n",
        "    [(value, key) for (key, value) in word_index.items()])\n",
        "decoded_review = \" \".join(\n",
        "    [reverse_word_index.get(i - 3, \"?\") for i in train_data[0]])"
      ],
      "metadata": {
        "colab": {
          "base_uri": "https://localhost:8080/"
        },
        "id": "pwuZtQMYVbx9",
        "outputId": "43face5a-c06a-4e2d-c926-85fc27982583"
      },
      "execution_count": null,
      "outputs": [
        {
          "output_type": "stream",
          "name": "stdout",
          "text": [
            "Downloading data from https://storage.googleapis.com/tensorflow/tf-keras-datasets/imdb_word_index.json\n",
            "1646592/1641221 [==============================] - 0s 0us/step\n",
            "1654784/1641221 [==============================] - 0s 0us/step\n"
          ]
        }
      ]
    },
    {
      "cell_type": "code",
      "source": [
        "import numpy as np\n",
        "def vectorize_sequences(sequences, dimension=10000):\n",
        "    results = np.zeros((len(sequences), dimension))\n",
        "    for i, sequence in enumerate(sequences):\n",
        "        for j in sequence:\n",
        "            results[i, j] = 1.\n",
        "    return results\n",
        "x_train = vectorize_sequences(train_data)\n",
        "x_test = vectorize_sequences(test_data)\n",
        "\n"
      ],
      "metadata": {
        "id": "nRwUAi2RW4sE"
      },
      "execution_count": null,
      "outputs": []
    },
    {
      "cell_type": "code",
      "source": [
        "x_train[0]"
      ],
      "metadata": {
        "colab": {
          "base_uri": "https://localhost:8080/"
        },
        "id": "v3-R1clxXNfh",
        "outputId": "2adda63c-ef6d-4ad6-811e-d72563985b49"
      },
      "execution_count": null,
      "outputs": [
        {
          "output_type": "execute_result",
          "data": {
            "text/plain": [
              "array([0., 1., 1., ..., 0., 0., 0.])"
            ]
          },
          "metadata": {},
          "execution_count": 6
        }
      ]
    },
    {
      "cell_type": "code",
      "source": [
        "y_train = np.asarray(train_labels).astype(\"float32\")\n",
        "y_test = np.asarray(test_labels).astype(\"float32\")\n"
      ],
      "metadata": {
        "id": "vqHpRZgpXiC4"
      },
      "execution_count": null,
      "outputs": []
    },
    {
      "cell_type": "code",
      "source": [
        "from tensorflow import keras\n",
        "from tensorflow.keras import layers\n",
        "model = keras.Sequential([\n",
        "layers.Dense(16, activation=\"relu\"),\n",
        "layers.Dense(16, activation=\"relu\"),\n",
        "layers.Dense(1, activation=\"sigmoid\")\n",
        "])"
      ],
      "metadata": {
        "id": "q8FQvlNiYMhf"
      },
      "execution_count": null,
      "outputs": []
    },
    {
      "cell_type": "code",
      "source": [
        "model.compile(optimizer=\"rmsprop\",\n",
        "              loss=\"binary_crossentropy\",\n",
        "              metrics=[\"accuracy\"])\n"
      ],
      "metadata": {
        "id": "pqEv_TqNZswo"
      },
      "execution_count": null,
      "outputs": []
    },
    {
      "cell_type": "code",
      "source": [
        "x_val = x_train[:10000]\n",
        "partial_x_train = x_train[10000:]\n",
        "y_val = y_train[:10000]\n",
        "partial_y_train = y_train[10000:]"
      ],
      "metadata": {
        "id": "uS60GQhpcZI7"
      },
      "execution_count": null,
      "outputs": []
    },
    {
      "cell_type": "code",
      "source": [
        "x_val = x_train[:10000]\n",
        "partial_x_train = x_train[10000:]\n",
        "y_val = y_train[:10000]\n",
        "partial_y_train = y_train[10000:]"
      ],
      "metadata": {
        "id": "tq3-6a2Zc2hg"
      },
      "execution_count": null,
      "outputs": []
    },
    {
      "cell_type": "code",
      "source": [
        "history = model.fit(partial_x_train,\n",
        "                    partial_y_train,\n",
        "                    epochs=20,\n",
        "                    batch_size=512,\n",
        "                    validation_data=(x_val, y_val))"
      ],
      "metadata": {
        "colab": {
          "base_uri": "https://localhost:8080/"
        },
        "id": "brvxGiXYdG0s",
        "outputId": "5c0ed010-844d-4d45-b5bf-315c8f759a7d"
      },
      "execution_count": null,
      "outputs": [
        {
          "output_type": "stream",
          "name": "stdout",
          "text": [
            "Epoch 1/20\n",
            "30/30 [==============================] - 5s 41ms/step - loss: 0.5194 - accuracy: 0.7885 - val_loss: 0.3980 - val_accuracy: 0.8603\n",
            "Epoch 2/20\n",
            "30/30 [==============================] - 1s 19ms/step - loss: 0.3073 - accuracy: 0.9021 - val_loss: 0.3066 - val_accuracy: 0.8848\n",
            "Epoch 3/20\n",
            "30/30 [==============================] - 1s 19ms/step - loss: 0.2263 - accuracy: 0.9268 - val_loss: 0.2816 - val_accuracy: 0.8899\n",
            "Epoch 4/20\n",
            "30/30 [==============================] - 1s 19ms/step - loss: 0.1767 - accuracy: 0.9441 - val_loss: 0.2733 - val_accuracy: 0.8900\n",
            "Epoch 5/20\n",
            "30/30 [==============================] - 1s 19ms/step - loss: 0.1431 - accuracy: 0.9555 - val_loss: 0.2876 - val_accuracy: 0.8886\n",
            "Epoch 6/20\n",
            "30/30 [==============================] - 1s 19ms/step - loss: 0.1197 - accuracy: 0.9626 - val_loss: 0.3024 - val_accuracy: 0.8833\n",
            "Epoch 7/20\n",
            "30/30 [==============================] - 1s 18ms/step - loss: 0.0994 - accuracy: 0.9703 - val_loss: 0.3091 - val_accuracy: 0.8839\n",
            "Epoch 8/20\n",
            "30/30 [==============================] - 1s 19ms/step - loss: 0.0810 - accuracy: 0.9765 - val_loss: 0.3363 - val_accuracy: 0.8834\n",
            "Epoch 9/20\n",
            "30/30 [==============================] - 1s 19ms/step - loss: 0.0686 - accuracy: 0.9808 - val_loss: 0.3554 - val_accuracy: 0.8773\n",
            "Epoch 10/20\n",
            "30/30 [==============================] - 1s 19ms/step - loss: 0.0531 - accuracy: 0.9871 - val_loss: 0.3875 - val_accuracy: 0.8789\n",
            "Epoch 11/20\n",
            "30/30 [==============================] - 1s 19ms/step - loss: 0.0453 - accuracy: 0.9881 - val_loss: 0.4180 - val_accuracy: 0.8768\n",
            "Epoch 12/20\n",
            "30/30 [==============================] - 1s 18ms/step - loss: 0.0360 - accuracy: 0.9928 - val_loss: 0.4861 - val_accuracy: 0.8591\n",
            "Epoch 13/20\n",
            "30/30 [==============================] - 1s 19ms/step - loss: 0.0295 - accuracy: 0.9940 - val_loss: 0.4895 - val_accuracy: 0.8721\n",
            "Epoch 14/20\n",
            "30/30 [==============================] - 1s 19ms/step - loss: 0.0225 - accuracy: 0.9959 - val_loss: 0.4936 - val_accuracy: 0.8734\n",
            "Epoch 15/20\n",
            "30/30 [==============================] - 1s 19ms/step - loss: 0.0170 - accuracy: 0.9979 - val_loss: 0.5863 - val_accuracy: 0.8578\n",
            "Epoch 16/20\n",
            "30/30 [==============================] - 1s 19ms/step - loss: 0.0155 - accuracy: 0.9976 - val_loss: 0.5675 - val_accuracy: 0.8675\n",
            "Epoch 17/20\n",
            "30/30 [==============================] - 1s 19ms/step - loss: 0.0135 - accuracy: 0.9975 - val_loss: 0.5991 - val_accuracy: 0.8669\n",
            "Epoch 18/20\n",
            "30/30 [==============================] - 1s 19ms/step - loss: 0.0065 - accuracy: 0.9998 - val_loss: 0.6401 - val_accuracy: 0.8691\n",
            "Epoch 19/20\n",
            "30/30 [==============================] - 1s 18ms/step - loss: 0.0089 - accuracy: 0.9985 - val_loss: 0.6645 - val_accuracy: 0.8661\n",
            "Epoch 20/20\n",
            "30/30 [==============================] - 1s 19ms/step - loss: 0.0054 - accuracy: 0.9995 - val_loss: 0.8051 - val_accuracy: 0.8499\n"
          ]
        }
      ]
    },
    {
      "cell_type": "code",
      "source": [
        "history_dict = history.history\n",
        "history_dict.keys()"
      ],
      "metadata": {
        "colab": {
          "base_uri": "https://localhost:8080/"
        },
        "id": "JJB_TZkrdn8t",
        "outputId": "62d8c739-6a47-482c-c892-6ce8162a25f8"
      },
      "execution_count": null,
      "outputs": [
        {
          "output_type": "execute_result",
          "data": {
            "text/plain": [
              "dict_keys(['loss', 'accuracy', 'val_loss', 'val_accuracy'])"
            ]
          },
          "metadata": {},
          "execution_count": 13
        }
      ]
    },
    {
      "cell_type": "code",
      "source": [
        "import matplotlib.pyplot as plt\n",
        "history_dict = history.history\n",
        "loss_values = history_dict[\"loss\"]\n",
        "val_loss_values = history_dict[\"val_loss\"]\n",
        "epochs = range(1, len(loss_values) + 1)\n",
        "plt.plot(epochs, loss_values, \"bo\", label=\"Training loss\")\n",
        "plt.plot(epochs, val_loss_values, \"b\", label=\"Validation loss\")\n",
        "plt.title(\"Training and validation loss\")\n",
        "plt.xlabel(\"Epochs\")\n",
        "plt.ylabel(\"Loss\")\n",
        "plt.legend()\n",
        "plt.show()"
      ],
      "metadata": {
        "colab": {
          "base_uri": "https://localhost:8080/",
          "height": 295
        },
        "id": "Hz9xq6XTd3AH",
        "outputId": "58498938-649a-4c60-c0fb-01b650c5febf"
      },
      "execution_count": null,
      "outputs": [
        {
          "output_type": "display_data",
          "data": {
            "text/plain": [
              "<Figure size 432x288 with 1 Axes>"
            ],
            "image/png": "[encoded data removed]"
          },
          "metadata": {
            "needs_background": "light"
          }
        }
      ]
    },
    {
      "cell_type": "code",
      "source": [
        "plt.clf()\n",
        "acc = history_dict[\"accuracy\"]\n",
        "val_acc = history_dict[\"val_accuracy\"]\n",
        "plt.plot(epochs, acc, \"bo\", label=\"Training acc\")\n",
        "plt.plot(epochs, val_acc, \"b\", label=\"Validation acc\")\n",
        "plt.title(\"Training and validation accuracy\")\n",
        "plt.xlabel(\"Epochs\")\n",
        "plt.ylabel(\"Accuracy\")\n",
        "plt.legend()\n",
        "plt.show()\n"
      ],
      "metadata": {
        "colab": {
          "base_uri": "https://localhost:8080/",
          "height": 295
        },
        "id": "ZM96s-xCeZ76",
        "outputId": "7f799899-e5c9-4cf0-9f6d-2936b8928177"
      },
      "execution_count": null,
      "outputs": [
        {
          "output_type": "display_data",
          "data": {
            "text/plain": [
              "<Figure size 432x288 with 1 Axes>"
            ],
            "image/png": "[encoded data removed]"
          },
          "metadata": {
            "needs_background": "light"
          }
        }
      ]
    },
    {
      "cell_type": "code",
      "source": [
        "model = keras.Sequential([\n",
        "    layers.Dense(16, activation=\"relu\"),\n",
        "    layers.Dense(16, activation=\"relu\"),\n",
        "    layers.Dense(1, activation=\"sigmoid\")\n",
        "])\n",
        "model.compile(optimizer=\"rmsprop\",\n",
        "              loss=\"binary_crossentropy\",\n",
        "              metrics=[\"accuracy\"])\n",
        "model.fit(x_train, y_train, epochs=4, batch_size=512)\n",
        "results = model.evaluate(x_test, y_test)\n"
      ],
      "metadata": {
        "colab": {
          "base_uri": "https://localhost:8080/"
        },
        "id": "vvGshe_2gKGo",
        "outputId": "5c588a9c-53e8-424e-ccc3-0d58960808fd"
      },
      "execution_count": null,
      "outputs": [
        {
          "output_type": "stream",
          "name": "stdout",
          "text": [
            "Epoch 1/4\n",
            "49/49 [==============================] - 1s 12ms/step - loss: 0.4576 - accuracy: 0.8220\n",
            "Epoch 2/4\n",
            "49/49 [==============================] - 1s 12ms/step - loss: 0.2664 - accuracy: 0.9093\n",
            "Epoch 3/4\n",
            "49/49 [==============================] - 1s 12ms/step - loss: 0.2053 - accuracy: 0.9293\n",
            "Epoch 4/4\n",
            "49/49 [==============================] - 1s 12ms/step - loss: 0.1692 - accuracy: 0.9408\n",
            "782/782 [==============================] - 2s 2ms/step - loss: 0.2971 - accuracy: 0.8810\n"
          ]
        }
      ]
    },
    {
      "cell_type": "code",
      "source": [
        "results"
      ],
      "metadata": {
        "colab": {
          "base_uri": "https://localhost:8080/"
        },
        "id": "7E-5Vu5pgZJ3",
        "outputId": "1916dff5-bbfa-458d-c3fc-c3a58e90c83e"
      },
      "execution_count": null,
      "outputs": [
        {
          "output_type": "execute_result",
          "data": {
            "text/plain": [
              "[0.2970511019229889, 0.8809599876403809]"
            ]
          },
          "metadata": {},
          "execution_count": 17
        }
      ]
    },
    {
      "cell_type": "code",
      "source": [
        "model.predict(x_test)"
      ],
      "metadata": {
        "colab": {
          "base_uri": "https://localhost:8080/"
        },
        "id": "Z_DOx6-gg2jh",
        "outputId": "ea1b9fad-3200-4cb6-a137-1c91796dc5fd"
      },
      "execution_count": null,
      "outputs": [
        {
          "output_type": "execute_result",
          "data": {
            "text/plain": [
              "array([[0.17206852],\n",
              "       [0.9993538 ],\n",
              "       [0.64147395],\n",
              "       ...,\n",
              "       [0.11926585],\n",
              "       [0.06517687],\n",
              "       [0.5251409 ]], dtype=float32)"
            ]
          },
          "metadata": {},
          "execution_count": 18
        }
      ]
    },
    {
      "cell_type": "code",
      "source": [
        "from tensorflow.keras.datasets import reuters\n",
        "(train_data, train_labels), (test_data, test_labels) = reuters.load_data(\n",
        "    num_words=10000)"
      ],
      "metadata": {
        "colab": {
          "base_uri": "https://localhost:8080/"
        },
        "id": "2ReMVWrojrkI",
        "outputId": "66be9b86-b860-4b5f-ea56-bcaceba01899"
      },
      "execution_count": null,
      "outputs": [
        {
          "output_type": "stream",
          "name": "stdout",
          "text": [
            "Downloading data from https://storage.googleapis.com/tensorflow/tf-keras-datasets/reuters.npz\n",
            "2113536/2110848 [==============================] - 0s 0us/step\n",
            "2121728/2110848 [==============================] - 0s 0us/step\n"
          ]
        }
      ]
    },
    {
      "cell_type": "code",
      "source": [
        "len(train_data)"
      ],
      "metadata": {
        "colab": {
          "base_uri": "https://localhost:8080/"
        },
        "id": "2HvFsBCNj_FB",
        "outputId": "c879b496-7e1a-4f67-b5ea-818edb3e2eb0"
      },
      "execution_count": null,
      "outputs": [
        {
          "output_type": "execute_result",
          "data": {
            "text/plain": [
              "8982"
            ]
          },
          "metadata": {},
          "execution_count": 20
        }
      ]
    },
    {
      "cell_type": "code",
      "source": [
        "len(test_data)"
      ],
      "metadata": {
        "colab": {
          "base_uri": "https://localhost:8080/"
        },
        "id": "JXsOC4xKkOps",
        "outputId": "42e9661c-0041-4985-b380-be98c3325d6f"
      },
      "execution_count": null,
      "outputs": [
        {
          "output_type": "execute_result",
          "data": {
            "text/plain": [
              "2246"
            ]
          },
          "metadata": {},
          "execution_count": 21
        }
      ]
    },
    {
      "cell_type": "code",
      "source": [
        "train_data[10]"
      ],
      "metadata": {
        "colab": {
          "base_uri": "https://localhost:8080/"
        },
        "id": "gjUbpxNTkaFn",
        "outputId": "a62a64df-fa77-4665-caf4-a627d7d27194"
      },
      "execution_count": null,
      "outputs": [
        {
          "output_type": "execute_result",
          "data": {
            "text/plain": [
              "[1,\n",
              " 245,\n",
              " 273,\n",
              " 207,\n",
              " 156,\n",
              " 53,\n",
              " 74,\n",
              " 160,\n",
              " 26,\n",
              " 14,\n",
              " 46,\n",
              " 296,\n",
              " 26,\n",
              " 39,\n",
              " 74,\n",
              " 2979,\n",
              " 3554,\n",
              " 14,\n",
              " 46,\n",
              " 4689,\n",
              " 4329,\n",
              " 86,\n",
              " 61,\n",
              " 3499,\n",
              " 4795,\n",
              " 14,\n",
              " 61,\n",
              " 451,\n",
              " 4329,\n",
              " 17,\n",
              " 12]"
            ]
          },
          "metadata": {},
          "execution_count": 22
        }
      ]
    },
    {
      "cell_type": "code",
      "source": [
        "word_index = reuters.get_word_index()\n",
        "reverse_word_index = dict([(value, key) for (key, value) in word_index.items()])\n",
        "decoded_newswire = \" \".join([reverse_word_index.get(i - 3, \"?\") for i in\n",
        "    train_data[0]])\n"
      ],
      "metadata": {
        "colab": {
          "base_uri": "https://localhost:8080/"
        },
        "id": "VSAL7Vbikovf",
        "outputId": "a8123aa3-fd8e-4399-c64b-d6a32ef486e0"
      },
      "execution_count": null,
      "outputs": [
        {
          "output_type": "stream",
          "name": "stdout",
          "text": [
            "Downloading data from https://storage.googleapis.com/tensorflow/tf-keras-datasets/reuters_word_index.json\n",
            "557056/550378 [==============================] - 0s 0us/step\n",
            "565248/550378 [==============================] - 0s 0us/step\n"
          ]
        }
      ]
    },
    {
      "cell_type": "code",
      "source": [
        "train_labels[10]"
      ],
      "metadata": {
        "colab": {
          "base_uri": "https://localhost:8080/"
        },
        "id": "wuzoeg3ik8H9",
        "outputId": "b6455cac-36b3-407b-f601-1774ae385955"
      },
      "execution_count": null,
      "outputs": [
        {
          "output_type": "execute_result",
          "data": {
            "text/plain": [
              "3"
            ]
          },
          "metadata": {},
          "execution_count": 24
        }
      ]
    },
    {
      "cell_type": "code",
      "source": [
        "x_train = vectorize_sequences(train_data)\n",
        "x_test = vectorize_sequences(test_data)\n"
      ],
      "metadata": {
        "id": "jHtaBeGllAQz"
      },
      "execution_count": null,
      "outputs": []
    },
    {
      "cell_type": "code",
      "source": [
        "def to_one_hot(labels, dimension=46):\n",
        "    results = np.zeros((len(labels), dimension))\n",
        "    for i, label in enumerate(labels):\n",
        "        results[i, label] = 1.\n",
        "    return results\n",
        "y_train = to_one_hot(train_labels)\n",
        "y_test = to_one_hot(test_labels)\n"
      ],
      "metadata": {
        "id": "o-8K8ORylerY"
      },
      "execution_count": null,
      "outputs": []
    },
    {
      "cell_type": "code",
      "source": [
        "from tensorflow.keras.utils import to_categorical\n",
        "y_train = to_categorical(train_labels)\n",
        "y_test = to_categorical(test_labels)"
      ],
      "metadata": {
        "id": "ZE2WtTTclrJ_"
      },
      "execution_count": null,
      "outputs": []
    },
    {
      "cell_type": "code",
      "source": [
        "model = keras.Sequential([\n",
        "    layers.Dense(64, activation=\"relu\"),\n",
        "    layers.Dense(64, activation=\"relu\"),\n",
        "    layers.Dense(46, activation=\"softmax\")\n",
        "])\n"
      ],
      "metadata": {
        "id": "jKj5m_Bgm2pd"
      },
      "execution_count": null,
      "outputs": []
    },
    {
      "cell_type": "code",
      "source": [
        "model.compile(optimizer=\"rmsprop\",\n",
        "              loss=\"categorical_crossentropy\",\n",
        "              metrics=[\"accuracy\"])\n"
      ],
      "metadata": {
        "id": "GjA7VVWdn0Xy"
      },
      "execution_count": null,
      "outputs": []
    },
    {
      "cell_type": "code",
      "source": [
        "x_val = x_train[:1000]\n",
        "partial_x_train = x_train[1000:]\n",
        "y_val = y_train[:1000]\n",
        "partial_y_train = y_train[1000:]"
      ],
      "metadata": {
        "id": "XJY9BQM6oEFv"
      },
      "execution_count": null,
      "outputs": []
    },
    {
      "cell_type": "code",
      "source": [
        "history = model.fit(partial_x_train,\n",
        "                    partial_y_train,\n",
        "                    epochs=20,\n",
        "                    batch_size=512,\n",
        "                    validation_data=(x_val, y_val))\n"
      ],
      "metadata": {
        "colab": {
          "base_uri": "https://localhost:8080/"
        },
        "id": "WaejzZjFod45",
        "outputId": "e095206c-495e-41c9-cf0c-d7a5fc4b199a"
      },
      "execution_count": null,
      "outputs": [
        {
          "output_type": "stream",
          "name": "stdout",
          "text": [
            "Epoch 1/20\n",
            "16/16 [==============================] - 1s 29ms/step - loss: 2.6894 - accuracy: 0.5390 - val_loss: 1.7873 - val_accuracy: 0.6480\n",
            "Epoch 2/20\n",
            "16/16 [==============================] - 0s 15ms/step - loss: 1.4287 - accuracy: 0.7135 - val_loss: 1.3041 - val_accuracy: 0.7320\n",
            "Epoch 3/20\n",
            "16/16 [==============================] - 0s 16ms/step - loss: 1.0482 - accuracy: 0.7810 - val_loss: 1.1617 - val_accuracy: 0.7380\n",
            "Epoch 4/20\n",
            "16/16 [==============================] - 0s 15ms/step - loss: 0.8263 - accuracy: 0.8274 - val_loss: 1.0391 - val_accuracy: 0.7760\n",
            "Epoch 5/20\n",
            "16/16 [==============================] - 0s 14ms/step - loss: 0.6667 - accuracy: 0.8627 - val_loss: 0.9710 - val_accuracy: 0.7990\n",
            "Epoch 6/20\n",
            "16/16 [==============================] - 0s 18ms/step - loss: 0.5326 - accuracy: 0.8931 - val_loss: 0.9307 - val_accuracy: 0.8040\n",
            "Epoch 7/20\n",
            "16/16 [==============================] - 0s 15ms/step - loss: 0.4358 - accuracy: 0.9107 - val_loss: 0.9488 - val_accuracy: 0.7960\n",
            "Epoch 8/20\n",
            "16/16 [==============================] - 0s 18ms/step - loss: 0.3554 - accuracy: 0.9265 - val_loss: 0.8942 - val_accuracy: 0.8170\n",
            "Epoch 9/20\n",
            "16/16 [==============================] - 0s 15ms/step - loss: 0.2960 - accuracy: 0.9372 - val_loss: 0.8847 - val_accuracy: 0.8230\n",
            "Epoch 10/20\n",
            "16/16 [==============================] - 0s 15ms/step - loss: 0.2523 - accuracy: 0.9429 - val_loss: 0.9222 - val_accuracy: 0.8110\n",
            "Epoch 11/20\n",
            "16/16 [==============================] - 0s 15ms/step - loss: 0.2188 - accuracy: 0.9468 - val_loss: 0.9165 - val_accuracy: 0.8220\n",
            "Epoch 12/20\n",
            "16/16 [==============================] - 0s 15ms/step - loss: 0.1890 - accuracy: 0.9510 - val_loss: 0.9774 - val_accuracy: 0.8070\n",
            "Epoch 13/20\n",
            "16/16 [==============================] - 0s 14ms/step - loss: 0.1738 - accuracy: 0.9538 - val_loss: 0.9683 - val_accuracy: 0.8230\n",
            "Epoch 14/20\n",
            "16/16 [==============================] - 0s 15ms/step - loss: 0.1550 - accuracy: 0.9564 - val_loss: 0.9745 - val_accuracy: 0.8130\n",
            "Epoch 15/20\n",
            "16/16 [==============================] - 0s 15ms/step - loss: 0.1479 - accuracy: 0.9558 - val_loss: 1.0033 - val_accuracy: 0.8120\n",
            "Epoch 16/20\n",
            "16/16 [==============================] - 0s 15ms/step - loss: 0.1360 - accuracy: 0.9575 - val_loss: 1.0027 - val_accuracy: 0.8110\n",
            "Epoch 17/20\n",
            "16/16 [==============================] - 0s 15ms/step - loss: 0.1295 - accuracy: 0.9589 - val_loss: 1.0021 - val_accuracy: 0.8070\n",
            "Epoch 18/20\n",
            "16/16 [==============================] - 0s 15ms/step - loss: 0.1225 - accuracy: 0.9567 - val_loss: 1.0446 - val_accuracy: 0.8030\n",
            "Epoch 19/20\n",
            "16/16 [==============================] - 0s 15ms/step - loss: 0.1194 - accuracy: 0.9582 - val_loss: 1.0808 - val_accuracy: 0.8080\n",
            "Epoch 20/20\n",
            "16/16 [==============================] - 0s 15ms/step - loss: 0.1124 - accuracy: 0.9584 - val_loss: 1.0699 - val_accuracy: 0.7970\n"
          ]
        }
      ]
    },
    {
      "cell_type": "code",
      "source": [
        "loss = history.history[\"loss\"]\n",
        "val_loss = history.history[\"val_loss\"]\n",
        "epochs = range(1, len(loss) + 1)\n",
        "plt.plot(epochs, loss, \"bo\", label=\"Training loss\")\n",
        "plt.plot(epochs, val_loss, \"b\", label=\"Validation loss\")\n",
        "plt.title(\"Training and validation loss\")\n",
        "plt.xlabel(\"Epochs\")\n",
        "plt.ylabel(\"Loss\")\n",
        "plt.legend()\n",
        "plt.show()"
      ],
      "metadata": {
        "colab": {
          "base_uri": "https://localhost:8080/",
          "height": 295
        },
        "id": "2gPk-xgZoluC",
        "outputId": "dd1216a7-9560-47e6-8b62-fb6bdeb249c6"
      },
      "execution_count": null,
      "outputs": [
        {
          "output_type": "display_data",
          "data": {
            "text/plain": [
              "<Figure size 432x288 with 1 Axes>"
            ],
            "image/png": "[encoded data removed]"
          },
          "metadata": {
            "needs_background": "light"
          }
        }
      ]
    },
    {
      "cell_type": "code",
      "source": [
        "plt.clf()\n",
        "acc = history.history[\"accuracy\"]\n",
        "val_acc = history.history[\"val_accuracy\"]\n",
        "plt.plot(epochs, acc, \"bo\", label=\"Training accuracy\")\n",
        "plt.plot(epochs, val_acc, \"b\", label=\"Validation accuracy\")\n",
        "plt.title(\"Training and validation accuracy\")\n",
        "plt.xlabel(\"Epochs\")\n",
        "plt.ylabel(\"Accuracy\")\n",
        "plt.legend()\n",
        "plt.show()\n"
      ],
      "metadata": {
        "colab": {
          "base_uri": "https://localhost:8080/",
          "height": 295
        },
        "id": "wTCkWVopoujG",
        "outputId": "1aeb132f-e35a-4a9a-9ca0-3b938feefbe2"
      },
      "execution_count": null,
      "outputs": [
        {
          "output_type": "display_data",
          "data": {
            "text/plain": [
              "<Figure size 432x288 with 1 Axes>"
            ],
            "image/png": "[encoded data removed]"
          },
          "metadata": {
            "needs_background": "light"
          }
        }
      ]
    },
    {
      "cell_type": "code",
      "source": [
        "model = keras.Sequential([\n",
        "  layers.Dense(64, activation=\"relu\"),\n",
        "  layers.Dense(64, activation=\"relu\"),\n",
        "  layers.Dense(46, activation=\"softmax\")\n",
        "])\n",
        "model.compile(optimizer=\"rmsprop\",\n",
        "              loss=\"categorical_crossentropy\",\n",
        "              metrics=[\"accuracy\"])\n",
        "model.fit(x_train,\n",
        "          y_train,\n",
        "          epochs=9,\n",
        "          batch_size=512)\n",
        "results = model.evaluate(x_test, y_test)\n"
      ],
      "metadata": {
        "colab": {
          "base_uri": "https://localhost:8080/"
        },
        "id": "Z4BxmO7Kpxac",
        "outputId": "34567bb8-c9f2-41c2-c94b-58af6b71da68"
      },
      "execution_count": null,
      "outputs": [
        {
          "output_type": "stream",
          "name": "stdout",
          "text": [
            "Epoch 1/9\n",
            "18/18 [==============================] - 1s 13ms/step - loss: 2.5179 - accuracy: 0.5411\n",
            "Epoch 2/9\n",
            "18/18 [==============================] - 0s 12ms/step - loss: 1.3262 - accuracy: 0.7218\n",
            "Epoch 3/9\n",
            "18/18 [==============================] - 0s 12ms/step - loss: 0.9815 - accuracy: 0.7906\n",
            "Epoch 4/9\n",
            "18/18 [==============================] - 0s 12ms/step - loss: 0.7706 - accuracy: 0.8363\n",
            "Epoch 5/9\n",
            "18/18 [==============================] - 0s 12ms/step - loss: 0.6074 - accuracy: 0.8739\n",
            "Epoch 6/9\n",
            "18/18 [==============================] - 0s 12ms/step - loss: 0.4848 - accuracy: 0.9007\n",
            "Epoch 7/9\n",
            "18/18 [==============================] - 0s 12ms/step - loss: 0.3868 - accuracy: 0.9184\n",
            "Epoch 8/9\n",
            "18/18 [==============================] - 0s 12ms/step - loss: 0.3162 - accuracy: 0.9314\n",
            "Epoch 9/9\n",
            "18/18 [==============================] - 0s 12ms/step - loss: 0.2688 - accuracy: 0.9413\n",
            "71/71 [==============================] - 0s 3ms/step - loss: 0.9626 - accuracy: 0.7885\n"
          ]
        }
      ]
    },
    {
      "cell_type": "code",
      "source": [
        "results"
      ],
      "metadata": {
        "colab": {
          "base_uri": "https://localhost:8080/"
        },
        "id": "eINkHi94p_Kl",
        "outputId": "0b5d798c-b9e8-48af-975f-e964f2aa25bc"
      },
      "execution_count": null,
      "outputs": [
        {
          "output_type": "execute_result",
          "data": {
            "text/plain": [
              "[0.9625672698020935, 0.7885128855705261]"
            ]
          },
          "metadata": {},
          "execution_count": 35
        }
      ]
    },
    {
      "cell_type": "code",
      "source": [
        "import copy\n",
        "test_labels_copy = copy.copy(test_labels)\n",
        "np.random.shuffle(test_labels_copy)\n",
        "hits_array = np.array(test_labels) == np.array(test_labels_copy)\n",
        "hits_array.mean()\n"
      ],
      "metadata": {
        "colab": {
          "base_uri": "https://localhost:8080/"
        },
        "id": "gJKuwpo4q2uU",
        "outputId": "e393c13c-cf5f-463a-8c84-11210305e52e"
      },
      "execution_count": null,
      "outputs": [
        {
          "output_type": "execute_result",
          "data": {
            "text/plain": [
              "0.188780053428317"
            ]
          },
          "metadata": {},
          "execution_count": 36
        }
      ]
    },
    {
      "cell_type": "code",
      "source": [
        "predictions = model.predict(x_test)"
      ],
      "metadata": {
        "id": "YFCBvq3prkY6"
      },
      "execution_count": null,
      "outputs": []
    },
    {
      "cell_type": "code",
      "source": [
        "predictions[0].shape"
      ],
      "metadata": {
        "colab": {
          "base_uri": "https://localhost:8080/"
        },
        "id": "Dex0jqCIrtet",
        "outputId": "53ecefc8-5d50-46f2-deab-e09dd21ba590"
      },
      "execution_count": null,
      "outputs": [
        {
          "output_type": "execute_result",
          "data": {
            "text/plain": [
              "(46,)"
            ]
          },
          "metadata": {},
          "execution_count": 38
        }
      ]
    },
    {
      "cell_type": "code",
      "source": [
        "np.sum(predictions[0])"
      ],
      "metadata": {
        "colab": {
          "base_uri": "https://localhost:8080/"
        },
        "id": "5axx_5nnrxS0",
        "outputId": "b7eb7ab6-d28f-42f2-c5d7-8bc94b0fe924"
      },
      "execution_count": null,
      "outputs": [
        {
          "output_type": "execute_result",
          "data": {
            "text/plain": [
              "1.0"
            ]
          },
          "metadata": {},
          "execution_count": 39
        }
      ]
    },
    {
      "cell_type": "code",
      "source": [
        "np.argmax(predictions[0])"
      ],
      "metadata": {
        "colab": {
          "base_uri": "https://localhost:8080/"
        },
        "id": "j3uMsaRNr46u",
        "outputId": "3edd0a8e-acc0-4a33-feb7-cd8f576fef95"
      },
      "execution_count": null,
      "outputs": [
        {
          "output_type": "execute_result",
          "data": {
            "text/plain": [
              "3"
            ]
          },
          "metadata": {},
          "execution_count": 40
        }
      ]
    },
    {
      "cell_type": "code",
      "source": [
        "y_train = np.array(train_labels)\n",
        "y_test = np.array(test_labels)"
      ],
      "metadata": {
        "id": "c7xiQZqBtVRd"
      },
      "execution_count": null,
      "outputs": []
    },
    {
      "cell_type": "code",
      "source": [
        "model.compile(optimizer=\"rmsprop\",\n",
        "              loss=\"sparse_categorical_crossentropy\",\n",
        "              metrics=[\"accuracy\"])"
      ],
      "metadata": {
        "id": "KZZhUoiAtqYn"
      },
      "execution_count": null,
      "outputs": []
    },
    {
      "cell_type": "code",
      "source": [
        "model = keras.Sequential([\n",
        "    layers.Dense(64, activation=\"relu\"),\n",
        "    layers.Dense(4, activation=\"relu\"),\n",
        "    layers.Dense(46, activation=\"softmax\")\n",
        "])\n",
        "model.compile(optimizer=\"rmsprop\",\n",
        "              loss=\"categorical_crossentropy\",\n",
        "              metrics=[\"accuracy\"])\n",
        "model.fit(partial_x_train,\n",
        "          partial_y_train,\n",
        "          epochs=20,\n",
        "          batch_size=128,\n",
        "          validation_data=(x_val, y_val))\n"
      ],
      "metadata": {
        "colab": {
          "base_uri": "https://localhost:8080/"
        },
        "id": "89d66QkQuLte",
        "outputId": "ebcc6cec-912a-4d88-9cc6-a5416024582b"
      },
      "execution_count": null,
      "outputs": [
        {
          "output_type": "stream",
          "name": "stdout",
          "text": [
            "Epoch 1/20\n",
            "63/63 [==============================] - 1s 8ms/step - loss: 2.7628 - accuracy: 0.4169 - val_loss: 1.9929 - val_accuracy: 0.5770\n",
            "Epoch 2/20\n",
            "63/63 [==============================] - 0s 6ms/step - loss: 1.7666 - accuracy: 0.6111 - val_loss: 1.6402 - val_accuracy: 0.6220\n",
            "Epoch 3/20\n",
            "63/63 [==============================] - 0s 5ms/step - loss: 1.5106 - accuracy: 0.6401 - val_loss: 1.5168 - val_accuracy: 0.6370\n",
            "Epoch 4/20\n",
            "63/63 [==============================] - 0s 6ms/step - loss: 1.3211 - accuracy: 0.6699 - val_loss: 1.4237 - val_accuracy: 0.6550\n",
            "Epoch 5/20\n",
            "63/63 [==============================] - 0s 6ms/step - loss: 1.1625 - accuracy: 0.6981 - val_loss: 1.3545 - val_accuracy: 0.6830\n",
            "Epoch 6/20\n",
            "63/63 [==============================] - 0s 6ms/step - loss: 1.0347 - accuracy: 0.7370 - val_loss: 1.3519 - val_accuracy: 0.6950\n",
            "Epoch 7/20\n",
            "63/63 [==============================] - 0s 6ms/step - loss: 0.9367 - accuracy: 0.7519 - val_loss: 1.3221 - val_accuracy: 0.7140\n",
            "Epoch 8/20\n",
            "63/63 [==============================] - 0s 6ms/step - loss: 0.8581 - accuracy: 0.7670 - val_loss: 1.3399 - val_accuracy: 0.7010\n",
            "Epoch 9/20\n",
            "63/63 [==============================] - 0s 6ms/step - loss: 0.7953 - accuracy: 0.7798 - val_loss: 1.3550 - val_accuracy: 0.7120\n",
            "Epoch 10/20\n",
            "63/63 [==============================] - 0s 6ms/step - loss: 0.7368 - accuracy: 0.8028 - val_loss: 1.4396 - val_accuracy: 0.7050\n",
            "Epoch 11/20\n",
            "63/63 [==============================] - 0s 6ms/step - loss: 0.6895 - accuracy: 0.8252 - val_loss: 1.4550 - val_accuracy: 0.7080\n",
            "Epoch 12/20\n",
            "63/63 [==============================] - 0s 6ms/step - loss: 0.6450 - accuracy: 0.8325 - val_loss: 1.4993 - val_accuracy: 0.7180\n",
            "Epoch 13/20\n",
            "63/63 [==============================] - 0s 5ms/step - loss: 0.6075 - accuracy: 0.8421 - val_loss: 1.5073 - val_accuracy: 0.7140\n",
            "Epoch 14/20\n",
            "63/63 [==============================] - 0s 6ms/step - loss: 0.5700 - accuracy: 0.8510 - val_loss: 1.5898 - val_accuracy: 0.7140\n",
            "Epoch 15/20\n",
            "63/63 [==============================] - 0s 6ms/step - loss: 0.5382 - accuracy: 0.8577 - val_loss: 1.6568 - val_accuracy: 0.7120\n",
            "Epoch 16/20\n",
            "63/63 [==============================] - 0s 6ms/step - loss: 0.5101 - accuracy: 0.8638 - val_loss: 1.7195 - val_accuracy: 0.7150\n",
            "Epoch 17/20\n",
            "63/63 [==============================] - 0s 6ms/step - loss: 0.4832 - accuracy: 0.8728 - val_loss: 1.7289 - val_accuracy: 0.7100\n",
            "Epoch 18/20\n",
            "63/63 [==============================] - 1s 9ms/step - loss: 0.4622 - accuracy: 0.8792 - val_loss: 1.8370 - val_accuracy: 0.7070\n",
            "Epoch 19/20\n",
            "63/63 [==============================] - 1s 8ms/step - loss: 0.4426 - accuracy: 0.8850 - val_loss: 1.9018 - val_accuracy: 0.7040\n",
            "Epoch 20/20\n",
            "63/63 [==============================] - 1s 9ms/step - loss: 0.4236 - accuracy: 0.8857 - val_loss: 1.9780 - val_accuracy: 0.7000\n"
          ]
        },
        {
          "output_type": "execute_result",
          "data": {
            "text/plain": [
              "<keras.callbacks.History at 0x7fbccd440c10>"
            ]
          },
          "metadata": {},
          "execution_count": 43
        }
      ]
    },
    {
      "cell_type": "code",
      "source": [
        "from tensorflow.keras.datasets import boston_housing\n",
        "(train_data, train_targets), (test_data, test_targets) = boston_housing.load_data()"
      ],
      "metadata": {
        "id": "Nqd08xz_xu0d",
        "colab": {
          "base_uri": "https://localhost:8080/"
        },
        "outputId": "91cf9327-80ec-4583-9409-573c73d75bac"
      },
      "execution_count": null,
      "outputs": [
        {
          "output_type": "stream",
          "name": "stdout",
          "text": [
            "Downloading data from https://storage.googleapis.com/tensorflow/tf-keras-datasets/boston_housing.npz\n",
            "57344/57026 [==============================] - 0s 0us/step\n",
            "65536/57026 [==================================] - 0s 0us/step\n"
          ]
        }
      ]
    },
    {
      "cell_type": "code",
      "source": [
        "train_data.shape"
      ],
      "metadata": {
        "colab": {
          "base_uri": "https://localhost:8080/"
        },
        "id": "cxOt_Tq7xzaY",
        "outputId": "b797ebf8-3306-48ae-dc61-791105510211"
      },
      "execution_count": null,
      "outputs": [
        {
          "output_type": "execute_result",
          "data": {
            "text/plain": [
              "(404, 13)"
            ]
          },
          "metadata": {},
          "execution_count": 45
        }
      ]
    },
    {
      "cell_type": "code",
      "source": [
        "test_data.shape"
      ],
      "metadata": {
        "colab": {
          "base_uri": "https://localhost:8080/"
        },
        "id": "IhAw1BDqx2s6",
        "outputId": "8945f057-6691-474e-80b0-63414bf27b4f"
      },
      "execution_count": null,
      "outputs": [
        {
          "output_type": "execute_result",
          "data": {
            "text/plain": [
              "(102, 13)"
            ]
          },
          "metadata": {},
          "execution_count": 46
        }
      ]
    },
    {
      "cell_type": "code",
      "source": [
        "train_targets"
      ],
      "metadata": {
        "colab": {
          "base_uri": "https://localhost:8080/"
        },
        "id": "k4ItBLbXx6Xm",
        "outputId": "b2c6f862-672b-4b8a-a173-7c17c47acda9"
      },
      "execution_count": null,
      "outputs": [
        {
          "output_type": "execute_result",
          "data": {
            "text/plain": [
              "array([15.2, 42.3, 50. , 21.1, 17.7, 18.5, 11.3, 15.6, 15.6, 14.4, 12.1,\n",
              "       17.9, 23.1, 19.9, 15.7,  8.8, 50. , 22.5, 24.1, 27.5, 10.9, 30.8,\n",
              "       32.9, 24. , 18.5, 13.3, 22.9, 34.7, 16.6, 17.5, 22.3, 16.1, 14.9,\n",
              "       23.1, 34.9, 25. , 13.9, 13.1, 20.4, 20. , 15.2, 24.7, 22.2, 16.7,\n",
              "       12.7, 15.6, 18.4, 21. , 30.1, 15.1, 18.7,  9.6, 31.5, 24.8, 19.1,\n",
              "       22. , 14.5, 11. , 32. , 29.4, 20.3, 24.4, 14.6, 19.5, 14.1, 14.3,\n",
              "       15.6, 10.5,  6.3, 19.3, 19.3, 13.4, 36.4, 17.8, 13.5, 16.5,  8.3,\n",
              "       14.3, 16. , 13.4, 28.6, 43.5, 20.2, 22. , 23. , 20.7, 12.5, 48.5,\n",
              "       14.6, 13.4, 23.7, 50. , 21.7, 39.8, 38.7, 22.2, 34.9, 22.5, 31.1,\n",
              "       28.7, 46. , 41.7, 21. , 26.6, 15. , 24.4, 13.3, 21.2, 11.7, 21.7,\n",
              "       19.4, 50. , 22.8, 19.7, 24.7, 36.2, 14.2, 18.9, 18.3, 20.6, 24.6,\n",
              "       18.2,  8.7, 44. , 10.4, 13.2, 21.2, 37. , 30.7, 22.9, 20. , 19.3,\n",
              "       31.7, 32. , 23.1, 18.8, 10.9, 50. , 19.6,  5. , 14.4, 19.8, 13.8,\n",
              "       19.6, 23.9, 24.5, 25. , 19.9, 17.2, 24.6, 13.5, 26.6, 21.4, 11.9,\n",
              "       22.6, 19.6,  8.5, 23.7, 23.1, 22.4, 20.5, 23.6, 18.4, 35.2, 23.1,\n",
              "       27.9, 20.6, 23.7, 28. , 13.6, 27.1, 23.6, 20.6, 18.2, 21.7, 17.1,\n",
              "        8.4, 25.3, 13.8, 22.2, 18.4, 20.7, 31.6, 30.5, 20.3,  8.8, 19.2,\n",
              "       19.4, 23.1, 23. , 14.8, 48.8, 22.6, 33.4, 21.1, 13.6, 32.2, 13.1,\n",
              "       23.4, 18.9, 23.9, 11.8, 23.3, 22.8, 19.6, 16.7, 13.4, 22.2, 20.4,\n",
              "       21.8, 26.4, 14.9, 24.1, 23.8, 12.3, 29.1, 21. , 19.5, 23.3, 23.8,\n",
              "       17.8, 11.5, 21.7, 19.9, 25. , 33.4, 28.5, 21.4, 24.3, 27.5, 33.1,\n",
              "       16.2, 23.3, 48.3, 22.9, 22.8, 13.1, 12.7, 22.6, 15. , 15.3, 10.5,\n",
              "       24. , 18.5, 21.7, 19.5, 33.2, 23.2,  5. , 19.1, 12.7, 22.3, 10.2,\n",
              "       13.9, 16.3, 17. , 20.1, 29.9, 17.2, 37.3, 45.4, 17.8, 23.2, 29. ,\n",
              "       22. , 18. , 17.4, 34.6, 20.1, 25. , 15.6, 24.8, 28.2, 21.2, 21.4,\n",
              "       23.8, 31. , 26.2, 17.4, 37.9, 17.5, 20. ,  8.3, 23.9,  8.4, 13.8,\n",
              "        7.2, 11.7, 17.1, 21.6, 50. , 16.1, 20.4, 20.6, 21.4, 20.6, 36.5,\n",
              "        8.5, 24.8, 10.8, 21.9, 17.3, 18.9, 36.2, 14.9, 18.2, 33.3, 21.8,\n",
              "       19.7, 31.6, 24.8, 19.4, 22.8,  7.5, 44.8, 16.8, 18.7, 50. , 50. ,\n",
              "       19.5, 20.1, 50. , 17.2, 20.8, 19.3, 41.3, 20.4, 20.5, 13.8, 16.5,\n",
              "       23.9, 20.6, 31.5, 23.3, 16.8, 14. , 33.8, 36.1, 12.8, 18.3, 18.7,\n",
              "       19.1, 29. , 30.1, 50. , 50. , 22. , 11.9, 37.6, 50. , 22.7, 20.8,\n",
              "       23.5, 27.9, 50. , 19.3, 23.9, 22.6, 15.2, 21.7, 19.2, 43.8, 20.3,\n",
              "       33.2, 19.9, 22.5, 32.7, 22. , 17.1, 19. , 15. , 16.1, 25.1, 23.7,\n",
              "       28.7, 37.2, 22.6, 16.4, 25. , 29.8, 22.1, 17.4, 18.1, 30.3, 17.5,\n",
              "       24.7, 12.6, 26.5, 28.7, 13.3, 10.4, 24.4, 23. , 20. , 17.8,  7. ,\n",
              "       11.8, 24.4, 13.8, 19.4, 25.2, 19.4, 19.4, 29.1])"
            ]
          },
          "metadata": {},
          "execution_count": 47
        }
      ]
    },
    {
      "cell_type": "code",
      "source": [
        "mean = train_data.mean(axis=0)\n",
        "train_data -= mean\n",
        "std = train_data.std(axis=0)\n",
        "train_data /= std\n",
        "test_data -= mean\n",
        "test_data /= std\n"
      ],
      "metadata": {
        "id": "EbVXUrN8yNZc"
      },
      "execution_count": null,
      "outputs": []
    },
    {
      "cell_type": "code",
      "source": [
        "def build_model():\n",
        "    model = keras.Sequential([\n",
        "        layers.Dense(64, activation=\"relu\"),\n",
        "        layers.Dense(64, activation=\"relu\"),\n",
        "        layers.Dense(1)\n",
        "    ])\n",
        "    model.compile(optimizer=\"rmsprop\", loss=\"mse\", metrics=[\"mae\"])\n",
        "    return model"
      ],
      "metadata": {
        "id": "shu-rpqqzAy_"
      },
      "execution_count": null,
      "outputs": []
    },
    {
      "cell_type": "code",
      "source": [
        "k = 4\n",
        "num_val_samples = len(train_data) // k\n",
        "num_epochs = 100\n",
        "all_scores = []\n",
        "for i in range(k):\n",
        "    print(f\"Processing fold #{i}\")\n",
        "    val_data = train_data[i * num_val_samples: (i + 1) * num_val_samples]\n",
        "    val_targets = train_targets[i * num_val_samples: (i + 1) * num_val_samples]\n",
        "    partial_train_data = np.concatenate(\n",
        "        [train_data[:i * num_val_samples],\n",
        "         train_data[(i + 1) * num_val_samples:]],\n",
        "        axis=0)\n",
        "    partial_train_targets = np.concatenate(\n",
        "        [train_targets[:i * num_val_samples],\n",
        "         train_targets[(i + 1) * num_val_samples:]],\n",
        "        axis=0)\n",
        "    model = build_model()\n",
        "    model.fit(partial_train_data, partial_train_targets,\n",
        "              epochs=num_epochs, batch_size=16, verbose=0)\n",
        "    val_mse, val_mae = model.evaluate(val_data, val_targets, verbose=0)\n",
        "    all_scores.append(val_mae)\n"
      ],
      "metadata": {
        "colab": {
          "base_uri": "https://localhost:8080/"
        },
        "id": "vF7lUSbzzi5H",
        "outputId": "8a1e0a91-06c1-4a8f-831c-d9fd5d4842ab"
      },
      "execution_count": null,
      "outputs": [
        {
          "output_type": "stream",
          "name": "stdout",
          "text": [
            "Processing fold #0\n",
            "Processing fold #1\n",
            "Processing fold #2\n",
            "Processing fold #3\n"
          ]
        }
      ]
    },
    {
      "cell_type": "code",
      "source": [
        "all_scores"
      ],
      "metadata": {
        "colab": {
          "base_uri": "https://localhost:8080/"
        },
        "id": "0_mz1ViI1jrS",
        "outputId": "2ac642e5-f53f-44b2-aea2-7b62c3ccbae2"
      },
      "execution_count": null,
      "outputs": [
        {
          "output_type": "execute_result",
          "data": {
            "text/plain": [
              "[2.053607225418091, 2.490351676940918, 2.473325729370117, 2.3240926265716553]"
            ]
          },
          "metadata": {},
          "execution_count": 51
        }
      ]
    },
    {
      "cell_type": "code",
      "source": [
        "np.mean(all_scores)"
      ],
      "metadata": {
        "id": "B13Qhj0v1n5h",
        "outputId": "72a40a00-f7c3-469f-be46-2be810fc6fb0",
        "colab": {
          "base_uri": "https://localhost:8080/"
        }
      },
      "execution_count": null,
      "outputs": [
        {
          "output_type": "execute_result",
          "data": {
            "text/plain": [
              "2.3353443145751953"
            ]
          },
          "metadata": {},
          "execution_count": 52
        }
      ]
    },
    {
      "cell_type": "code",
      "source": [
        "num_epochs = 500\n",
        "all_mae_histories = []\n",
        "for i in range(k):\n",
        "    print(f\"Processing fold #{i}\")\n",
        "    val_data = train_data[i * num_val_samples: (i + 1) * num_val_samples]\n",
        "    val_targets = train_targets[i * num_val_samples: (i + 1) * num_val_samples]\n",
        "    partial_train_data = np.concatenate(\n",
        "        [train_data[:i * num_val_samples],\n",
        "         train_data[(i + 1) * num_val_samples:]],\n",
        "        axis=0)\n",
        "    partial_train_targets = np.concatenate(\n",
        "        [train_targets[:i * num_val_samples],\n",
        "         train_targets[(i + 1) * num_val_samples:]],\n",
        "        axis=0)\n",
        "    model = build_model()\n",
        "    history = model.fit(partial_train_data, partial_train_targets,\n",
        "                        validation_data=(val_data, val_targets),\n",
        "                        epochs=num_epochs, batch_size=16, verbose=0)\n",
        "    mae_history = history.history[\"val_mae\"]\n",
        "    all_mae_histories.append(mae_history)"
      ],
      "metadata": {
        "colab": {
          "base_uri": "https://localhost:8080/"
        },
        "id": "Std9qhTT-6TS",
        "outputId": "70851bcc-f7c4-4c05-cdf3-b7bc69244794"
      },
      "execution_count": null,
      "outputs": [
        {
          "output_type": "stream",
          "name": "stdout",
          "text": [
            "Processing fold #0\n",
            "Processing fold #1\n",
            "Processing fold #2\n",
            "Processing fold #3\n"
          ]
        }
      ]
    },
    {
      "cell_type": "code",
      "source": [
        "from tensorflow.keras.datasets import imdb\n",
        "(train_data, train_labels), _ = imdb.load_data(num_words=10000)\n",
        "\n",
        "def vectorize_sequences(sequences, dimension=10000):\n",
        "    results = np.zeros((len(sequences), dimension))\n",
        "    for i, sequence in enumerate(sequences):\n",
        "        results[i, sequence] = 1.\n",
        "    return results\n",
        "train_data = vectorize_sequences(train_data)\n",
        "\n",
        "model = keras.Sequential([\n",
        "    layers.Dense(16, activation=\"relu\"),\n",
        "    layers.Dense(16, activation=\"relu\"),\n",
        "    layers.Dense(1, activation=\"sigmoid\")\n",
        "])\n",
        "model.compile(optimizer=\"rmsprop\",\n",
        "              loss=\"binary_crossentropy\",\n",
        "              metrics=[\"accuracy\"])\n",
        "history_original = model.fit(train_data, train_labels,\n",
        "                             epochs=20, batch_size=512, validation_split=0.4)"
      ],
      "metadata": {
        "colab": {
          "base_uri": "https://localhost:8080/"
        },
        "id": "nhrnw4ICE_Hc",
        "outputId": "8587b009-a587-4769-edcd-8f8d0b0357a8"
      },
      "execution_count": null,
      "outputs": [
        {
          "output_type": "stream",
          "name": "stdout",
          "text": [
            "Epoch 1/20\n",
            "30/30 [==============================] - 2s 35ms/step - loss: 0.5026 - accuracy: 0.7888 - val_loss: 0.3807 - val_accuracy: 0.8657\n",
            "Epoch 2/20\n",
            "30/30 [==============================] - 1s 20ms/step - loss: 0.2981 - accuracy: 0.9047 - val_loss: 0.2983 - val_accuracy: 0.8890\n",
            "Epoch 3/20\n",
            "30/30 [==============================] - 1s 20ms/step - loss: 0.2197 - accuracy: 0.9276 - val_loss: 0.2851 - val_accuracy: 0.8862\n",
            "Epoch 4/20\n",
            "30/30 [==============================] - 1s 21ms/step - loss: 0.1749 - accuracy: 0.9436 - val_loss: 0.2750 - val_accuracy: 0.8918\n",
            "Epoch 5/20\n",
            "30/30 [==============================] - 1s 21ms/step - loss: 0.1439 - accuracy: 0.9527 - val_loss: 0.3218 - val_accuracy: 0.8726\n",
            "Epoch 6/20\n",
            "30/30 [==============================] - 1s 24ms/step - loss: 0.1173 - accuracy: 0.9635 - val_loss: 0.3272 - val_accuracy: 0.8765\n",
            "Epoch 7/20\n",
            "30/30 [==============================] - 1s 21ms/step - loss: 0.0986 - accuracy: 0.9710 - val_loss: 0.3106 - val_accuracy: 0.8851\n",
            "Epoch 8/20\n",
            "30/30 [==============================] - 1s 21ms/step - loss: 0.0808 - accuracy: 0.9767 - val_loss: 0.3489 - val_accuracy: 0.8772\n",
            "Epoch 9/20\n",
            "30/30 [==============================] - 1s 21ms/step - loss: 0.0712 - accuracy: 0.9797 - val_loss: 0.3617 - val_accuracy: 0.8803\n",
            "Epoch 10/20\n",
            "30/30 [==============================] - 1s 21ms/step - loss: 0.0560 - accuracy: 0.9861 - val_loss: 0.3924 - val_accuracy: 0.8745\n",
            "Epoch 11/20\n",
            "30/30 [==============================] - 1s 20ms/step - loss: 0.0461 - accuracy: 0.9889 - val_loss: 0.4093 - val_accuracy: 0.8760\n",
            "Epoch 12/20\n",
            "30/30 [==============================] - 1s 21ms/step - loss: 0.0397 - accuracy: 0.9897 - val_loss: 0.4351 - val_accuracy: 0.8748\n",
            "Epoch 13/20\n",
            "30/30 [==============================] - 1s 20ms/step - loss: 0.0296 - accuracy: 0.9942 - val_loss: 0.4706 - val_accuracy: 0.8716\n",
            "Epoch 14/20\n",
            "30/30 [==============================] - 1s 21ms/step - loss: 0.0267 - accuracy: 0.9941 - val_loss: 0.4983 - val_accuracy: 0.8719\n",
            "Epoch 15/20\n",
            "30/30 [==============================] - 1s 20ms/step - loss: 0.0192 - accuracy: 0.9968 - val_loss: 0.5337 - val_accuracy: 0.8685\n",
            "Epoch 16/20\n",
            "30/30 [==============================] - 1s 20ms/step - loss: 0.0174 - accuracy: 0.9967 - val_loss: 0.5666 - val_accuracy: 0.8680\n",
            "Epoch 17/20\n",
            "30/30 [==============================] - 1s 21ms/step - loss: 0.0134 - accuracy: 0.9977 - val_loss: 0.5993 - val_accuracy: 0.8672\n",
            "Epoch 18/20\n",
            "30/30 [==============================] - 1s 20ms/step - loss: 0.0084 - accuracy: 0.9993 - val_loss: 0.6596 - val_accuracy: 0.8624\n",
            "Epoch 19/20\n",
            "30/30 [==============================] - 1s 21ms/step - loss: 0.0092 - accuracy: 0.9986 - val_loss: 0.6631 - val_accuracy: 0.8668\n",
            "Epoch 20/20\n",
            "30/30 [==============================] - 1s 20ms/step - loss: 0.0060 - accuracy: 0.9991 - val_loss: 0.7085 - val_accuracy: 0.8633\n"
          ]
        }
      ]
    },
    {
      "cell_type": "code",
      "source": [
        "model = keras.Sequential([\n",
        "    layers.Dense(4, activation=\"relu\"),\n",
        "    layers.Dense(4, activation=\"relu\"),\n",
        "    layers.Dense(1, activation=\"sigmoid\")\n",
        "])\n",
        "model.compile(optimizer=\"rmsprop\",\n",
        "              loss=\"binary_crossentropy\",\n",
        "              metrics=[\"accuracy\"])\n",
        "history_smaller_model = model.fit(\n",
        "    train_data, train_labels,\n",
        "    epochs=20, batch_size=512, validation_split=0.4)\n"
      ],
      "metadata": {
        "colab": {
          "base_uri": "https://localhost:8080/"
        },
        "id": "WGh8fa0dFH-n",
        "outputId": "e74a27df-4176-45a7-c072-3633ba713683"
      },
      "execution_count": null,
      "outputs": [
        {
          "output_type": "stream",
          "name": "stdout",
          "text": [
            "Epoch 1/20\n",
            "30/30 [==============================] - 2s 35ms/step - loss: 0.6280 - accuracy: 0.6895 - val_loss: 0.5456 - val_accuracy: 0.8108\n",
            "Epoch 2/20\n",
            "30/30 [==============================] - 1s 20ms/step - loss: 0.4699 - accuracy: 0.8749 - val_loss: 0.4280 - val_accuracy: 0.8725\n",
            "Epoch 3/20\n",
            "30/30 [==============================] - 1s 21ms/step - loss: 0.3589 - accuracy: 0.9051 - val_loss: 0.3568 - val_accuracy: 0.8809\n",
            "Epoch 4/20\n",
            "30/30 [==============================] - 1s 20ms/step - loss: 0.2855 - accuracy: 0.9192 - val_loss: 0.3139 - val_accuracy: 0.8880\n",
            "Epoch 5/20\n",
            "30/30 [==============================] - 1s 21ms/step - loss: 0.2359 - accuracy: 0.9317 - val_loss: 0.2896 - val_accuracy: 0.8912\n",
            "Epoch 6/20\n",
            "30/30 [==============================] - 1s 20ms/step - loss: 0.2011 - accuracy: 0.9392 - val_loss: 0.2829 - val_accuracy: 0.8880\n",
            "Epoch 7/20\n",
            "30/30 [==============================] - 1s 20ms/step - loss: 0.1739 - accuracy: 0.9493 - val_loss: 0.3001 - val_accuracy: 0.8757\n",
            "Epoch 8/20\n",
            "30/30 [==============================] - 1s 20ms/step - loss: 0.1545 - accuracy: 0.9544 - val_loss: 0.2766 - val_accuracy: 0.8916\n",
            "Epoch 9/20\n",
            "30/30 [==============================] - 1s 20ms/step - loss: 0.1366 - accuracy: 0.9602 - val_loss: 0.2819 - val_accuracy: 0.8880\n",
            "Epoch 10/20\n",
            "30/30 [==============================] - 1s 21ms/step - loss: 0.1211 - accuracy: 0.9652 - val_loss: 0.2831 - val_accuracy: 0.8899\n",
            "Epoch 11/20\n",
            "30/30 [==============================] - 1s 21ms/step - loss: 0.1078 - accuracy: 0.9705 - val_loss: 0.2902 - val_accuracy: 0.8889\n",
            "Epoch 12/20\n",
            "30/30 [==============================] - 1s 24ms/step - loss: 0.0963 - accuracy: 0.9733 - val_loss: 0.3067 - val_accuracy: 0.8856\n",
            "Epoch 13/20\n",
            "30/30 [==============================] - 1s 24ms/step - loss: 0.0853 - accuracy: 0.9785 - val_loss: 0.3149 - val_accuracy: 0.8844\n",
            "Epoch 14/20\n",
            "30/30 [==============================] - 1s 20ms/step - loss: 0.0773 - accuracy: 0.9799 - val_loss: 0.3248 - val_accuracy: 0.8845\n",
            "Epoch 15/20\n",
            "30/30 [==============================] - 1s 20ms/step - loss: 0.0686 - accuracy: 0.9841 - val_loss: 0.3373 - val_accuracy: 0.8849\n",
            "Epoch 16/20\n",
            "30/30 [==============================] - 1s 21ms/step - loss: 0.0613 - accuracy: 0.9848 - val_loss: 0.3552 - val_accuracy: 0.8798\n",
            "Epoch 17/20\n",
            "30/30 [==============================] - 1s 20ms/step - loss: 0.0547 - accuracy: 0.9870 - val_loss: 0.3786 - val_accuracy: 0.8752\n",
            "Epoch 18/20\n",
            "30/30 [==============================] - 1s 21ms/step - loss: 0.0487 - accuracy: 0.9885 - val_loss: 0.3880 - val_accuracy: 0.8771\n",
            "Epoch 19/20\n",
            "30/30 [==============================] - 1s 20ms/step - loss: 0.0428 - accuracy: 0.9905 - val_loss: 0.4020 - val_accuracy: 0.8779\n",
            "Epoch 20/20\n",
            "30/30 [==============================] - 1s 20ms/step - loss: 0.0380 - accuracy: 0.9912 - val_loss: 0.4193 - val_accuracy: 0.8770\n"
          ]
        }
      ]
    },
    {
      "cell_type": "code",
      "source": [
        "model = keras.Sequential([\n",
        "    layers.Dense(512, activation=\"relu\"),\n",
        "    layers.Dense(512, activation=\"relu\"),\n",
        "    layers.Dense(1, activation=\"sigmoid\")\n",
        "])\n",
        "model.compile(optimizer=\"rmsprop\",\n",
        "              loss=\"binary_crossentropy\",\n",
        "              metrics=[\"accuracy\"])\n",
        "history_larger_model = model.fit(\n",
        "    train_data, train_labels,\n",
        "    epochs=20, batch_size=512, validation_split=0.4)"
      ],
      "metadata": {
        "colab": {
          "base_uri": "https://localhost:8080/"
        },
        "id": "G6NxqyGUFPbP",
        "outputId": "8fab1a6f-55a1-4b2b-8e79-bc3b41316061"
      },
      "execution_count": null,
      "outputs": [
        {
          "output_type": "stream",
          "name": "stdout",
          "text": [
            "Epoch 1/20\n",
            "30/30 [==============================] - 2s 41ms/step - loss: 0.5434 - accuracy: 0.7629 - val_loss: 0.4854 - val_accuracy: 0.7926\n",
            "Epoch 2/20\n",
            "30/30 [==============================] - 1s 24ms/step - loss: 0.2620 - accuracy: 0.9006 - val_loss: 0.3031 - val_accuracy: 0.8725\n",
            "Epoch 3/20\n",
            "30/30 [==============================] - 1s 24ms/step - loss: 0.1506 - accuracy: 0.9427 - val_loss: 0.5482 - val_accuracy: 0.7976\n",
            "Epoch 4/20\n",
            "30/30 [==============================] - 1s 24ms/step - loss: 0.1105 - accuracy: 0.9669 - val_loss: 0.3318 - val_accuracy: 0.8883\n",
            "Epoch 5/20\n",
            "30/30 [==============================] - 1s 24ms/step - loss: 0.0784 - accuracy: 0.9761 - val_loss: 0.3135 - val_accuracy: 0.8878\n",
            "Epoch 6/20\n",
            "30/30 [==============================] - 1s 23ms/step - loss: 0.0078 - accuracy: 0.9993 - val_loss: 0.5035 - val_accuracy: 0.8858\n",
            "Epoch 7/20\n",
            "30/30 [==============================] - 1s 24ms/step - loss: 9.3824e-04 - accuracy: 0.9999 - val_loss: 0.6310 - val_accuracy: 0.8863\n",
            "Epoch 8/20\n",
            "30/30 [==============================] - 1s 31ms/step - loss: 4.9653e-04 - accuracy: 0.9999 - val_loss: 3.6127 - val_accuracy: 0.6766\n",
            "Epoch 9/20\n",
            "30/30 [==============================] - 1s 31ms/step - loss: 0.2351 - accuracy: 0.9763 - val_loss: 0.5584 - val_accuracy: 0.8837\n",
            "Epoch 10/20\n",
            "30/30 [==============================] - 1s 26ms/step - loss: 2.7955e-04 - accuracy: 1.0000 - val_loss: 0.6441 - val_accuracy: 0.8834\n",
            "Epoch 11/20\n",
            "30/30 [==============================] - 1s 25ms/step - loss: 8.5294e-05 - accuracy: 1.0000 - val_loss: 0.7336 - val_accuracy: 0.8848\n",
            "Epoch 12/20\n",
            "30/30 [==============================] - 1s 24ms/step - loss: 2.2752e-05 - accuracy: 1.0000 - val_loss: 0.8216 - val_accuracy: 0.8844\n",
            "Epoch 13/20\n",
            "30/30 [==============================] - 1s 23ms/step - loss: 6.2188e-06 - accuracy: 1.0000 - val_loss: 0.9186 - val_accuracy: 0.8840\n",
            "Epoch 14/20\n",
            "30/30 [==============================] - 1s 23ms/step - loss: 1.8030e-06 - accuracy: 1.0000 - val_loss: 0.9952 - val_accuracy: 0.8859\n",
            "Epoch 15/20\n",
            "30/30 [==============================] - 1s 23ms/step - loss: 6.1492e-07 - accuracy: 1.0000 - val_loss: 1.0755 - val_accuracy: 0.8849\n",
            "Epoch 16/20\n",
            "30/30 [==============================] - 1s 23ms/step - loss: 2.1665e-07 - accuracy: 1.0000 - val_loss: 1.1571 - val_accuracy: 0.8854\n",
            "Epoch 17/20\n",
            "30/30 [==============================] - 1s 26ms/step - loss: 8.3003e-08 - accuracy: 1.0000 - val_loss: 1.2347 - val_accuracy: 0.8850\n",
            "Epoch 18/20\n",
            "30/30 [==============================] - 1s 23ms/step - loss: 3.8776e-08 - accuracy: 1.0000 - val_loss: 1.2740 - val_accuracy: 0.8856\n",
            "Epoch 19/20\n",
            "30/30 [==============================] - 1s 23ms/step - loss: 2.2776e-08 - accuracy: 1.0000 - val_loss: 1.3067 - val_accuracy: 0.8855\n",
            "Epoch 20/20\n",
            "30/30 [==============================] - 1s 23ms/step - loss: 1.5818e-08 - accuracy: 1.0000 - val_loss: 1.3274 - val_accuracy: 0.8857\n"
          ]
        }
      ]
    },
    {
      "cell_type": "code",
      "source": [
        "from tensorflow.keras import regularizers\n",
        "model = keras.Sequential([\n",
        "    layers.Dense(16,\n",
        "                 kernel_regularizer=regularizers.l2(0.002),\n",
        "                 activation=\"relu\"),\n",
        "    layers.Dense(16,\n",
        "                 kernel_regularizer=regularizers.l2(0.002),\n",
        "                 activation=\"relu\"),\n",
        "    layers.Dense(1, activation=\"sigmoid\")\n",
        "])\n",
        "model.compile(optimizer=\"rmsprop\",\n",
        "              loss=\"binary_crossentropy\",\n",
        "              metrics=[\"accuracy\"])\n",
        "history_l2_reg = model.fit(\n",
        "    train_data, train_labels,\n",
        "    epochs=20, batch_size=512, validation_split=0.4)"
      ],
      "metadata": {
        "colab": {
          "base_uri": "https://localhost:8080/"
        },
        "id": "z56BA6AfFaBr",
        "outputId": "5d23acd0-4ed0-4613-d407-3122b8872c75"
      },
      "execution_count": null,
      "outputs": [
        {
          "output_type": "stream",
          "name": "stdout",
          "text": [
            "Epoch 1/20\n",
            "30/30 [==============================] - 2s 42ms/step - loss: 0.6005 - accuracy: 0.7714 - val_loss: 0.4610 - val_accuracy: 0.8714\n",
            "Epoch 2/20\n",
            "30/30 [==============================] - 1s 20ms/step - loss: 0.3943 - accuracy: 0.8961 - val_loss: 0.3884 - val_accuracy: 0.8854\n",
            "Epoch 3/20\n",
            "30/30 [==============================] - 1s 20ms/step - loss: 0.3265 - accuracy: 0.9156 - val_loss: 0.3722 - val_accuracy: 0.8839\n",
            "Epoch 4/20\n",
            "30/30 [==============================] - 1s 20ms/step - loss: 0.2947 - accuracy: 0.9242 - val_loss: 0.3546 - val_accuracy: 0.8915\n",
            "Epoch 5/20\n",
            "30/30 [==============================] - 1s 24ms/step - loss: 0.2703 - accuracy: 0.9356 - val_loss: 0.3641 - val_accuracy: 0.8830\n",
            "Epoch 6/20\n",
            "30/30 [==============================] - 1s 20ms/step - loss: 0.2602 - accuracy: 0.9374 - val_loss: 0.3627 - val_accuracy: 0.8840\n",
            "Epoch 7/20\n",
            "30/30 [==============================] - 1s 20ms/step - loss: 0.2452 - accuracy: 0.9451 - val_loss: 0.3700 - val_accuracy: 0.8808\n",
            "Epoch 8/20\n",
            "30/30 [==============================] - 1s 21ms/step - loss: 0.2424 - accuracy: 0.9432 - val_loss: 0.3632 - val_accuracy: 0.8829\n",
            "Epoch 9/20\n",
            "30/30 [==============================] - 1s 20ms/step - loss: 0.2322 - accuracy: 0.9483 - val_loss: 0.3745 - val_accuracy: 0.8805\n",
            "Epoch 10/20\n",
            "30/30 [==============================] - 1s 20ms/step - loss: 0.2261 - accuracy: 0.9508 - val_loss: 0.3721 - val_accuracy: 0.8812\n",
            "Epoch 11/20\n",
            "30/30 [==============================] - 1s 20ms/step - loss: 0.2226 - accuracy: 0.9519 - val_loss: 0.3814 - val_accuracy: 0.8808\n",
            "Epoch 12/20\n",
            "30/30 [==============================] - 1s 20ms/step - loss: 0.2185 - accuracy: 0.9534 - val_loss: 0.4158 - val_accuracy: 0.8715\n",
            "Epoch 13/20\n",
            "30/30 [==============================] - 1s 20ms/step - loss: 0.2140 - accuracy: 0.9550 - val_loss: 0.3849 - val_accuracy: 0.8801\n",
            "Epoch 14/20\n",
            "30/30 [==============================] - 1s 20ms/step - loss: 0.2082 - accuracy: 0.9579 - val_loss: 0.4199 - val_accuracy: 0.8693\n",
            "Epoch 15/20\n",
            "30/30 [==============================] - 1s 20ms/step - loss: 0.2085 - accuracy: 0.9557 - val_loss: 0.3951 - val_accuracy: 0.8782\n",
            "Epoch 16/20\n",
            "30/30 [==============================] - 1s 20ms/step - loss: 0.2048 - accuracy: 0.9575 - val_loss: 0.4026 - val_accuracy: 0.8765\n",
            "Epoch 17/20\n",
            "30/30 [==============================] - 1s 20ms/step - loss: 0.2033 - accuracy: 0.9584 - val_loss: 0.4326 - val_accuracy: 0.8708\n",
            "Epoch 18/20\n",
            "30/30 [==============================] - 1s 20ms/step - loss: 0.1972 - accuracy: 0.9613 - val_loss: 0.4098 - val_accuracy: 0.8745\n",
            "Epoch 19/20\n",
            "30/30 [==============================] - 1s 20ms/step - loss: 0.2021 - accuracy: 0.9589 - val_loss: 0.4101 - val_accuracy: 0.8764\n",
            "Epoch 20/20\n",
            "30/30 [==============================] - 1s 20ms/step - loss: 0.1888 - accuracy: 0.9655 - val_loss: 0.4139 - val_accuracy: 0.8752\n"
          ]
        }
      ]
    },
    {
      "cell_type": "markdown",
      "source": [],
      "metadata": {
        "id": "5A-aZE-oFhk4"
      }
    },
    {
      "cell_type": "code",
      "source": [
        "from tensorflow.keras import regularizers\n",
        "regularizers.l1(0.001)\n",
        "regularizers.l1_l2(l1=0.001, l2=0.001)\n"
      ],
      "metadata": {
        "colab": {
          "base_uri": "https://localhost:8080/"
        },
        "id": "x3p_qrdfFm2M",
        "outputId": "a411a146-7217-46ee-9a04-ba3920d3bd54"
      },
      "execution_count": null,
      "outputs": [
        {
          "output_type": "execute_result",
          "data": {
            "text/plain": [
              "<keras.regularizers.L1L2 at 0x7fbccfc42490>"
            ]
          },
          "metadata": {},
          "execution_count": 65
        }
      ]
    },
    {
      "cell_type": "code",
      "source": [
        "model = keras.Sequential([\n",
        "    layers.Dense(16, activation=\"relu\"),\n",
        "    layers.Dropout(0.5),\n",
        "    layers.Dense(16, activation=\"relu\"),\n",
        "    layers.Dropout(0.5),\n",
        "    layers.Dense(1, activation=\"sigmoid\")\n",
        "])\n",
        "model.compile(optimizer=\"rmsprop\",\n",
        "              loss=\"binary_crossentropy\",\n",
        "              metrics=[\"accuracy\"])\n",
        "history_dropout = model.fit(\n",
        "    train_data, train_labels,\n",
        "    epochs=20, batch_size=512, validation_split=0.4)\n"
      ],
      "metadata": {
        "colab": {
          "base_uri": "https://localhost:8080/"
        },
        "id": "c3f3GqCOFsYz",
        "outputId": "233ca996-1163-46b7-d572-25879e496bd2"
      },
      "execution_count": null,
      "outputs": [
        {
          "output_type": "stream",
          "name": "stdout",
          "text": [
            "Epoch 1/20\n",
            "30/30 [==============================] - 2s 37ms/step - loss: 0.6483 - accuracy: 0.6107 - val_loss: 0.5544 - val_accuracy: 0.8051\n",
            "Epoch 2/20\n",
            "30/30 [==============================] - 1s 19ms/step - loss: 0.5478 - accuracy: 0.7337 - val_loss: 0.4589 - val_accuracy: 0.8638\n",
            "Epoch 3/20\n",
            "30/30 [==============================] - 1s 20ms/step - loss: 0.4730 - accuracy: 0.7992 - val_loss: 0.3883 - val_accuracy: 0.8750\n",
            "Epoch 4/20\n",
            "30/30 [==============================] - 1s 19ms/step - loss: 0.4213 - accuracy: 0.8417 - val_loss: 0.3448 - val_accuracy: 0.8804\n",
            "Epoch 5/20\n",
            "30/30 [==============================] - 1s 20ms/step - loss: 0.3646 - accuracy: 0.8717 - val_loss: 0.3195 - val_accuracy: 0.8831\n",
            "Epoch 6/20\n",
            "30/30 [==============================] - 1s 19ms/step - loss: 0.3267 - accuracy: 0.8971 - val_loss: 0.3016 - val_accuracy: 0.8853\n",
            "Epoch 7/20\n",
            "30/30 [==============================] - 1s 20ms/step - loss: 0.2909 - accuracy: 0.9153 - val_loss: 0.3013 - val_accuracy: 0.8871\n",
            "Epoch 8/20\n",
            "30/30 [==============================] - 1s 19ms/step - loss: 0.2656 - accuracy: 0.9234 - val_loss: 0.3071 - val_accuracy: 0.8864\n",
            "Epoch 9/20\n",
            "30/30 [==============================] - 1s 19ms/step - loss: 0.2279 - accuracy: 0.9351 - val_loss: 0.3170 - val_accuracy: 0.8854\n",
            "Epoch 10/20\n",
            "30/30 [==============================] - 1s 20ms/step - loss: 0.2097 - accuracy: 0.9417 - val_loss: 0.3337 - val_accuracy: 0.8841\n",
            "Epoch 11/20\n",
            "30/30 [==============================] - 1s 20ms/step - loss: 0.1829 - accuracy: 0.9485 - val_loss: 0.3404 - val_accuracy: 0.8849\n",
            "Epoch 12/20\n",
            "30/30 [==============================] - 1s 20ms/step - loss: 0.1697 - accuracy: 0.9535 - val_loss: 0.3539 - val_accuracy: 0.8844\n",
            "Epoch 13/20\n",
            "30/30 [==============================] - 1s 19ms/step - loss: 0.1555 - accuracy: 0.9584 - val_loss: 0.4010 - val_accuracy: 0.8829\n",
            "Epoch 14/20\n",
            "30/30 [==============================] - 1s 20ms/step - loss: 0.1385 - accuracy: 0.9643 - val_loss: 0.3886 - val_accuracy: 0.8821\n",
            "Epoch 15/20\n",
            "30/30 [==============================] - 1s 20ms/step - loss: 0.1285 - accuracy: 0.9637 - val_loss: 0.4211 - val_accuracy: 0.8802\n",
            "Epoch 16/20\n",
            "30/30 [==============================] - 1s 20ms/step - loss: 0.1163 - accuracy: 0.9680 - val_loss: 0.4345 - val_accuracy: 0.8802\n",
            "Epoch 17/20\n",
            "30/30 [==============================] - 1s 19ms/step - loss: 0.1113 - accuracy: 0.9705 - val_loss: 0.4729 - val_accuracy: 0.8793\n",
            "Epoch 18/20\n",
            "30/30 [==============================] - 1s 19ms/step - loss: 0.1018 - accuracy: 0.9719 - val_loss: 0.5121 - val_accuracy: 0.8792\n",
            "Epoch 19/20\n",
            "30/30 [==============================] - 1s 23ms/step - loss: 0.0900 - accuracy: 0.9758 - val_loss: 0.5366 - val_accuracy: 0.8787\n",
            "Epoch 20/20\n",
            "30/30 [==============================] - 1s 26ms/step - loss: 0.0861 - accuracy: 0.9761 - val_loss: 0.6080 - val_accuracy: 0.8794\n"
          ]
        }
      ]
    },
    {
      "cell_type": "code",
      "source": [
        "from tensorflow import keras\n",
        "from tensorflow.keras import layers\n",
        "\n",
        "model = keras.Sequential([\n",
        "    layers.Dense(64, activation=\"relu\"),\n",
        "    layers.Dense(10, activation=\"softmax\")\n",
        "])\n"
      ],
      "metadata": {
        "id": "c21E5IgmvTJr"
      },
      "execution_count": null,
      "outputs": []
    },
    {
      "cell_type": "code",
      "source": [
        "average_mae_history = [\n",
        " np.mean([x[i] for x in all_mae_histories]) for i in range(num_epochs)]"
      ],
      "metadata": {
        "id": "6OGPMhXpDEhH"
      },
      "execution_count": null,
      "outputs": []
    },
    {
      "cell_type": "code",
      "source": [
        "plt.plot(range(1, len(average_mae_history) + 1), average_mae_history)\n",
        "plt.xlabel(\"Epochs\")\n",
        "plt.ylabel(\"Validation MAE\")\n",
        "plt.show()\n"
      ],
      "metadata": {
        "colab": {
          "base_uri": "https://localhost:8080/",
          "height": 279
        },
        "id": "MJ_tXXjZDKHT",
        "outputId": "93b2ceea-cb25-450a-b47b-883196047b3e"
      },
      "execution_count": null,
      "outputs": [
        {
          "output_type": "display_data",
          "data": {
            "text/plain": [
              "<Figure size 432x288 with 1 Axes>"
            ],
            "image/png": "[encoded data removed]"
          },
          "metadata": {
            "needs_background": "light"
          }
        }
      ]
    },
    {
      "cell_type": "code",
      "source": [
        "truncated_mae_history = average_mae_history[10:]\n",
        "plt.plot(range(1, len(truncated_mae_history) + 1), truncated_mae_history)\n",
        "plt.xlabel(\"Epochs\")\n",
        "plt.ylabel(\"Validation MAE\")\n",
        "plt.show()"
      ],
      "metadata": {
        "colab": {
          "base_uri": "https://localhost:8080/",
          "height": 279
        },
        "id": "yzdOo7LGDqOO",
        "outputId": "9fb959f2-87fa-48ee-a5d5-d10f5e5d9bc3"
      },
      "execution_count": null,
      "outputs": [
        {
          "output_type": "display_data",
          "data": {
            "text/plain": [
              "<Figure size 432x288 with 1 Axes>"
            ],
            "image/png": "[encoded data removed]"
          },
          "metadata": {
            "needs_background": "light"
          }
        }
      ]
    },
    {
      "cell_type": "code",
      "source": [
        "model = build_model()\n",
        "model.fit(train_data, train_targets,\n",
        "          epochs=130, batch_size=16, verbose=0)\n",
        "test_mse_score, test_mae_score = model.evaluate(test_data, test_targets)"
      ],
      "metadata": {
        "colab": {
          "base_uri": "https://localhost:8080/"
        },
        "id": "Q--Zb1khD583",
        "outputId": "836ef76b-6195-438a-971e-a7110566ea6e"
      },
      "execution_count": null,
      "outputs": [
        {
          "output_type": "stream",
          "name": "stdout",
          "text": [
            "4/4 [==============================] - 0s 3ms/step - loss: 14.8552 - mae: 2.5641\n"
          ]
        }
      ]
    },
    {
      "cell_type": "code",
      "source": [
        "test_mae_score\n",
        "\n"
      ],
      "metadata": {
        "colab": {
          "base_uri": "https://localhost:8080/"
        },
        "id": "9bCUlYNOEA-d",
        "outputId": "a8c595d9-357f-4798-98b6-063790355d00"
      },
      "execution_count": null,
      "outputs": [
        {
          "output_type": "execute_result",
          "data": {
            "text/plain": [
              "2.5640952587127686"
            ]
          },
          "metadata": {},
          "execution_count": 58
        }
      ]
    },
    {
      "cell_type": "code",
      "source": [
        "predictions = model.predict(test_data)\n",
        "predictions[0]"
      ],
      "metadata": {
        "colab": {
          "base_uri": "https://localhost:8080/"
        },
        "id": "oxrcs5SaEkU0",
        "outputId": "cea30c1a-c20c-4c31-c3e1-0771d5c5302c"
      },
      "execution_count": null,
      "outputs": [
        {
          "output_type": "execute_result",
          "data": {
            "text/plain": [
              "array([7.4781737], dtype=float32)"
            ]
          },
          "metadata": {},
          "execution_count": 59
        }
      ]
    }
  ]
}